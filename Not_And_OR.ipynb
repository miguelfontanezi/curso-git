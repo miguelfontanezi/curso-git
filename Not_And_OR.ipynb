{
  "nbformat": 4,
  "nbformat_minor": 0,
  "metadata": {
    "colab": {
      "provenance": [],
      "authorship_tag": "ABX9TyN0qXZs/KjatkMX2kvjywpQ",
      "include_colab_link": true
    },
    "kernelspec": {
      "name": "python3",
      "display_name": "Python 3"
    },
    "language_info": {
      "name": "python"
    }
  },
  "cells": [
    {
      "cell_type": "markdown",
      "metadata": {
        "id": "view-in-github",
        "colab_type": "text"
      },
      "source": [
        "<a href=\"https://colab.research.google.com/github/miguelfontanezi/curso-git/blob/main/Not_And_OR.ipynb\" target=\"_parent\"><img src=\"https://colab.research.google.com/assets/colab-badge.svg\" alt=\"Open In Colab\"/></a>"
      ]
    },
    {
      "cell_type": "markdown",
      "source": [],
      "metadata": {
        "id": "aZKuS3yBf-Qx"
      }
    },
    {
      "cell_type": "code",
      "execution_count": 3,
      "metadata": {
        "colab": {
          "base_uri": "https://localhost:8080/"
        },
        "id": "alMuppltfuTx",
        "outputId": "b9230054-a622-42b7-9cc0-a20badf4a26e"
      },
      "outputs": [
        {
          "output_type": "execute_result",
          "data": {
            "text/plain": [
              "True"
            ]
          },
          "metadata": {},
          "execution_count": 3
        }
      ],
      "source": [
        "idadeAna = 32\n",
        "idadeBeatriz = 29\n",
        "not(idadeAna < idadeBeatriz)"
      ]
    },
    {
      "cell_type": "code",
      "source": [
        "p=True\n",
        "not(p)"
      ],
      "metadata": {
        "colab": {
          "base_uri": "https://localhost:8080/"
        },
        "id": "tJ5RRyUMh36W",
        "outputId": "1b5945e6-075c-4f07-ae76-ada131fb835b"
      },
      "execution_count": 5,
      "outputs": [
        {
          "output_type": "execute_result",
          "data": {
            "text/plain": [
              "False"
            ]
          },
          "metadata": {},
          "execution_count": 5
        }
      ]
    },
    {
      "cell_type": "code",
      "source": [
        "m=60\n",
        "if m<70:\n",
        "  print('Reprovado')\n",
        "else:\n",
        "  print('Aprovado')"
      ],
      "metadata": {
        "colab": {
          "base_uri": "https://localhost:8080/"
        },
        "id": "2xvS8_2KoFOA",
        "outputId": "9a7dd799-244f-4fbf-8e74-f9d55af726f4"
      },
      "execution_count": 8,
      "outputs": [
        {
          "output_type": "stream",
          "name": "stdout",
          "text": [
            "Reprovado\n"
          ]
        }
      ]
    },
    {
      "cell_type": "code",
      "source": [
        "media=float(input('Media Obtida: '))\n",
        "if media<70:\n",
        "  print(\"Reprovado\")\n",
        "else:\n",
        "  print(\"Aprovado\")"
      ],
      "metadata": {
        "colab": {
          "base_uri": "https://localhost:8080/"
        },
        "id": "yuG534cvo3Cu",
        "outputId": "e1fbfb78-9260-4e8e-dd45-9e3397a175df"
      },
      "execution_count": 11,
      "outputs": [
        {
          "output_type": "stream",
          "name": "stdout",
          "text": [
            "Media Obtida: 57\n",
            "Reprovado\n"
          ]
        }
      ]
    },
    {
      "cell_type": "code",
      "source": [
        "media=float(input('Média obtida: '))\n",
        "faltas=float(input('total de Faldas: '))\n",
        "if media >= 70 and faltas <= 20:\n",
        "  print('Aprovado')\n",
        "else:\n",
        "  print('Reprovado')"
      ],
      "metadata": {
        "colab": {
          "base_uri": "https://localhost:8080/"
        },
        "id": "x51AaWLZqlpX",
        "outputId": "77db7479-9fe6-476d-93de-53d664c974ab"
      },
      "execution_count": 14,
      "outputs": [
        {
          "output_type": "stream",
          "name": "stdout",
          "text": [
            "Média obtida: 66\n",
            "total de Faldas: 12\n",
            "Reprovado\n"
          ]
        }
      ]
    },
    {
      "cell_type": "code",
      "source": [
        "APOL1= float(input('Nota da APOL 1: '))\n",
        "APOL2= float(input('Nota da APOL 2: '))\n",
        "AP= float(input('Nota da Atividade Prática: '))\n",
        "PO= float(input('Nota da Prova Objetiva '))\n",
        "media = 0.15 * APOL1 + 0.15 * APOL2 + 0.4 * AP + 0.3 * PO\n",
        "print(f'Média Final:{media:.0f}')\n",
        "if media < 30:\n",
        "  print('Reprovado')\n",
        "elif media >= 30 and media < 67:\n",
        "  print('Em exame')\n",
        "elif media >= 67 and media < 70:\n",
        "  print('Aprovado por recuperação')\n",
        "else:\n",
        "  print('Aprovado')"
      ],
      "metadata": {
        "colab": {
          "base_uri": "https://localhost:8080/"
        },
        "id": "PJfItUmPsG2o",
        "outputId": "f7da92ee-897f-4563-eb05-4388a2fe638c"
      },
      "execution_count": 16,
      "outputs": [
        {
          "output_type": "stream",
          "name": "stdout",
          "text": [
            "Nota da APOL 1: 79\n",
            "Nota da APOL 2: 89\n",
            "Nota da Atividade Prática: 89\n",
            "Nota da Prova Objetiva 67\n",
            "Média Final:81\n",
            "Aprovado\n"
          ]
        }
      ]
    },
    {
      "cell_type": "code",
      "source": [
        "rg = input('RG (s/n): ')\n",
        "cpf = input('CPF (s/n): ')\n",
        "if rg == 's' or cpf == 's':\n",
        "  print('Entrada Liberada')\n",
        "else:\n",
        "  print('Entrada não Autorizada')"
      ],
      "metadata": {
        "colab": {
          "base_uri": "https://localhost:8080/"
        },
        "id": "NJ1UswrMxgtO",
        "outputId": "df7b3ba6-a15b-41f8-dca9-0852663605fd"
      },
      "execution_count": 22,
      "outputs": [
        {
          "output_type": "stream",
          "name": "stdout",
          "text": [
            "RG (s/n): n\n",
            "CPF (s/n): n\n",
            "Entrada não Autorizada\n"
          ]
        }
      ]
    }
  ]
}